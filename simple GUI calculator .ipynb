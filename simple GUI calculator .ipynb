{
 "cells": [
  {
   "cell_type": "code",
   "execution_count": null,
   "id": "ee3dc9bf",
   "metadata": {},
   "outputs": [],
   "source": [
    "import tkinter as tk\n",
    "\n",
    "# Function to handle button clicks\n",
    "def button_click(number):\n",
    "    current = entry.get()\n",
    "    entry.delete(0, tk.END)\n",
    "    entry.insert(0, current + str(number))\n",
    "\n",
    "# Function to clear the input\n",
    "def clear():\n",
    "    entry.delete(0, tk.END)\n",
    "\n",
    "# Function to evaluate the expression\n",
    "def calculate():\n",
    "    try:\n",
    "        result = eval(entry.get())\n",
    "        entry.delete(0, tk.END)\n",
    "        entry.insert(0, str(result))\n",
    "    except Exception as e:\n",
    "        entry.delete(0, tk.END)\n",
    "        entry.insert(0, \"Error\")\n",
    "\n",
    "# Initialize the main window\n",
    "root = tk.Tk()\n",
    "root.title(\"Simple Calculator\")\n",
    "\n",
    "# Entry widget for the display\n",
    "entry = tk.Entry(root, width=25, borderwidth=5, font=(\"Arial\", 14))\n",
    "entry.grid(row=0, column=0, columnspan=4, padx=10, pady=10)\n",
    "\n",
    "# Define button labels\n",
    "buttons = [\n",
    "    \"7\", \"8\", \"9\", \"/\",\n",
    "    \"4\", \"5\", \"6\", \"*\",\n",
    "    \"1\", \"2\", \"3\", \"-\",\n",
    "    \"C\", \"0\", \"=\", \"+\"\n",
    "]\n",
    "\n",
    "# Create and place buttons\n",
    "row_val = 1\n",
    "col_val = 0\n",
    "for button in buttons:\n",
    "    if button == \"C\":\n",
    "        tk.Button(root, text=button, width=5, height=2, font=(\"Arial\", 12), \n",
    "                  command=clear).grid(row=row_val, column=col_val, padx=5, pady=5)\n",
    "    elif button == \"=\":\n",
    "        tk.Button(root, text=button, width=5, height=2, font=(\"Arial\", 12), \n",
    "                  command=calculate).grid(row=row_val, column=col_val, padx=5, pady=5)\n",
    "    else:\n",
    "        tk.Button(root, text=button, width=5, height=2, font=(\"Arial\", 12), \n",
    "                  command=lambda b=button: button_click(b)).grid(row=row_val, column=col_val, padx=5, pady=5)\n",
    "    \n",
    "    col_val += 1\n",
    "    if col_val > 3:\n",
    "        col_val = 0\n",
    "        row_val += 1\n",
    "\n",
    "# Run the application\n",
    "root.mainloop()\n"
   ]
  },
  {
   "cell_type": "code",
   "execution_count": null,
   "id": "f39817e8",
   "metadata": {},
   "outputs": [],
   "source": []
  },
  {
   "cell_type": "code",
   "execution_count": null,
   "id": "e55449ee",
   "metadata": {},
   "outputs": [],
   "source": []
  }
 ],
 "metadata": {
  "kernelspec": {
   "display_name": "Python 3 (ipykernel)",
   "language": "python",
   "name": "python3"
  },
  "language_info": {
   "codemirror_mode": {
    "name": "ipython",
    "version": 3
   },
   "file_extension": ".py",
   "mimetype": "text/x-python",
   "name": "python",
   "nbconvert_exporter": "python",
   "pygments_lexer": "ipython3",
   "version": "3.10.0"
  }
 },
 "nbformat": 4,
 "nbformat_minor": 5
}
